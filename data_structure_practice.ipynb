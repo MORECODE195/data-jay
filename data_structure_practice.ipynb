{
  "nbformat": 4,
  "nbformat_minor": 0,
  "metadata": {
    "colab": {
      "provenance": []
    },
    "kernelspec": {
      "name": "python3",
      "display_name": "Python 3"
    },
    "language_info": {
      "name": "python"
    }
  },
  "cells": [
    {
      "cell_type": "code",
      "execution_count": null,
      "metadata": {
        "id": "q0jwwnM2If1r"
      },
      "outputs": [],
      "source": []
    },
    {
      "cell_type": "markdown",
      "source": [
        "# what is data structure?"
      ],
      "metadata": {
        "id": "YlH2GO1qJBBZ"
      }
    },
    {
      "cell_type": "code",
      "source": [
        "#data_structureis_a_python_part"
      ],
      "metadata": {
        "id": "q0HdJ1iuJNj5"
      },
      "execution_count": 3,
      "outputs": []
    },
    {
      "cell_type": "code",
      "source": [
        "print('hello world')"
      ],
      "metadata": {
        "colab": {
          "base_uri": "https://localhost:8080/"
        },
        "id": "7JhYduwBJjRU",
        "outputId": "d373fcb8-6af1-4513-9835-137db1f55f8d"
      },
      "execution_count": 4,
      "outputs": [
        {
          "output_type": "stream",
          "name": "stdout",
          "text": [
            "hello world\n"
          ]
        }
      ]
    },
    {
      "cell_type": "code",
      "source": [],
      "metadata": {
        "id": "G8B-7S-8J_vv"
      },
      "execution_count": null,
      "outputs": []
    },
    {
      "cell_type": "code",
      "source": [],
      "metadata": {
        "id": "33Td2y53Jjz1"
      },
      "execution_count": null,
      "outputs": []
    }
  ]
}